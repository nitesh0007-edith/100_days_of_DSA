{
 "cells": [
  {
   "cell_type": "code",
   "execution_count": 1,
   "id": "single-might",
   "metadata": {},
   "outputs": [
    {
     "name": "stdout",
     "output_type": "stream",
     "text": [
      "kth smallest element is 5\n"
     ]
    }
   ],
   "source": [
    "def kth_smallest(arr,n,k):\n",
    "    arr.sort()\n",
    "    return arr[k-1]\n",
    "if __name__=='__main__':\n",
    "    arr=[12,3,5,7,19]\n",
    "    n=len(arr)\n",
    "    k=2\n",
    "    print(\"kth smallest element is\",kth_smallest(arr,n,k))"
   ]
  },
  {
   "cell_type": "code",
   "execution_count": 2,
   "id": "orange-fiber",
   "metadata": {},
   "outputs": [
    {
     "name": "stdout",
     "output_type": "stream",
     "text": [
      "kth largesr element is 12\n"
     ]
    }
   ],
   "source": [
    "def kth_largest(arr,n,k):\n",
    "    arr.sort()\n",
    "    return arr[-k]\n",
    "if __name__=='__main__':\n",
    "    arr=[12,3,5,7,19]\n",
    "    n=len(arr)\n",
    "    k=2\n",
    "    print(\"kth largesr element is\",kth_largest(arr,n,k))"
   ]
  },
  {
   "cell_type": "code",
   "execution_count": null,
   "id": "endless-representation",
   "metadata": {},
   "outputs": [],
   "source": []
  }
 ],
 "metadata": {
  "kernelspec": {
   "display_name": "Python 3",
   "language": "python",
   "name": "python3"
  },
  "language_info": {
   "codemirror_mode": {
    "name": "ipython",
    "version": 3
   },
   "file_extension": ".py",
   "mimetype": "text/x-python",
   "name": "python",
   "nbconvert_exporter": "python",
   "pygments_lexer": "ipython3",
   "version": "3.9.1"
  }
 },
 "nbformat": 4,
 "nbformat_minor": 5
}
