{
 "cells": [
  {
   "cell_type": "code",
   "execution_count": 2,
   "id": "checked-circle",
   "metadata": {},
   "outputs": [
    {
     "name": "stdout",
     "output_type": "stream",
     "text": [
      "Initial queue\n",
      "['a', 'b', 'c']\n",
      "\n",
      "Elements dequeued from queue\n",
      "a\n",
      "b\n",
      "c\n",
      "\n",
      "Queue after removing elements\n",
      "[]\n"
     ]
    }
   ],
   "source": [
    "queue = []\n",
    " \n",
    "\n",
    "queue.append('a')\n",
    "queue.append('b')\n",
    "queue.append('c')\n",
    " \n",
    "print(\"Initial queue\")\n",
    "print(queue)\n",
    " \n",
    "\n",
    "print(\"\\nElements dequeued from queue\")\n",
    "print(queue.pop(0))\n",
    "print(queue.pop(0))\n",
    "print(queue.pop(0))\n",
    " \n",
    "print(\"\\nQueue after removing elements\")\n",
    "print(queue)"
   ]
  },
  {
   "cell_type": "code",
   "execution_count": null,
   "id": "graduate-bubble",
   "metadata": {},
   "outputs": [],
   "source": []
  }
 ],
 "metadata": {
  "kernelspec": {
   "display_name": "Python 3",
   "language": "python",
   "name": "python3"
  },
  "language_info": {
   "codemirror_mode": {
    "name": "ipython",
    "version": 3
   },
   "file_extension": ".py",
   "mimetype": "text/x-python",
   "name": "python",
   "nbconvert_exporter": "python",
   "pygments_lexer": "ipython3",
   "version": "3.9.1"
  }
 },
 "nbformat": 4,
 "nbformat_minor": 5
}
