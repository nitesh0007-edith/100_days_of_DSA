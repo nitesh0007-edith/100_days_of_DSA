{
 "cells": [
  {
   "cell_type": "code",
   "execution_count": 21,
   "id": "opposite-exception",
   "metadata": {},
   "outputs": [
    {
     "name": "stdout",
     "output_type": "stream",
     "text": [
      "Enter any 3 digit number153\n",
      "153  is a Armstrong number\n"
     ]
    }
   ],
   "source": [
    "n=int(input(\"Enter any 3 digit number\"))\n",
    "temp=n\n",
    "result=0\n",
    "while temp > 0:\n",
    "    rem = temp % 10\n",
    "    result=result+rem**3\n",
    "    temp=temp//10\n",
    "if(n==result):\n",
    "    print(n,\" is a Armstrong number\")\n",
    "else:\n",
    "    print(n,\" is not a Armstrong number\")"
   ]
  },
  {
   "cell_type": "code",
   "execution_count": null,
   "id": "communist-second",
   "metadata": {},
   "outputs": [],
   "source": []
  }
 ],
 "metadata": {
  "kernelspec": {
   "display_name": "Python 3",
   "language": "python",
   "name": "python3"
  },
  "language_info": {
   "codemirror_mode": {
    "name": "ipython",
    "version": 3
   },
   "file_extension": ".py",
   "mimetype": "text/x-python",
   "name": "python",
   "nbconvert_exporter": "python",
   "pygments_lexer": "ipython3",
   "version": "3.9.1"
  }
 },
 "nbformat": 4,
 "nbformat_minor": 5
}
