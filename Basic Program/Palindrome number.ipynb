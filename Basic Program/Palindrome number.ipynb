{
 "cells": [
  {
   "cell_type": "code",
   "execution_count": 3,
   "id": "smoking-assurance",
   "metadata": {},
   "outputs": [
    {
     "name": "stdout",
     "output_type": "stream",
     "text": [
      "Enter any digit 12121\n",
      "12121 is a palindrome number\n"
     ]
    }
   ],
   "source": [
    "n=int(input(\"Enter any digit \"))\n",
    "temp=n\n",
    "reversed=0\n",
    "while n > 0:\n",
    "    rem = n % 10\n",
    "    reversed=reversed*10+rem\n",
    "    n=n//10\n",
    "if temp==reversed :\n",
    "    print(temp,\"is a palindrome number\")\n",
    "else:\n",
    "    print(temp,\"not a palindrome number\")"
   ]
  },
  {
   "cell_type": "code",
   "execution_count": null,
   "id": "circular-giant",
   "metadata": {},
   "outputs": [],
   "source": []
  }
 ],
 "metadata": {
  "kernelspec": {
   "display_name": "Python 3",
   "language": "python",
   "name": "python3"
  },
  "language_info": {
   "codemirror_mode": {
    "name": "ipython",
    "version": 3
   },
   "file_extension": ".py",
   "mimetype": "text/x-python",
   "name": "python",
   "nbconvert_exporter": "python",
   "pygments_lexer": "ipython3",
   "version": "3.9.1"
  }
 },
 "nbformat": 4,
 "nbformat_minor": 5
}
