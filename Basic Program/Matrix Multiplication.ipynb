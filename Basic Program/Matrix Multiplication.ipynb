{
 "cells": [
  {
   "cell_type": "code",
   "execution_count": 3,
   "id": "transsexual-diagnosis",
   "metadata": {},
   "outputs": [
    {
     "name": "stdout",
     "output_type": "stream",
     "text": [
      "[36, 24, 60]\n",
      "[24, 216, 147]\n",
      "[6, 135, 108]\n"
     ]
    }
   ],
   "source": [
    "x=[[3,4,5],[4,8,7],[1,9,6]]\n",
    "y=[[4,2,4],[2,9,7],[2,5,6]]\n",
    "result=[[0,0,0],[0,0,0],[0,0,0]]\n",
    "\n",
    "for i in range(len(x)):\n",
    "    for j in range(len(y[0])):\n",
    "        for k in range(len(y)):\n",
    "            result[i][j] += x[i][j]*y[i][j]\n",
    "for r in result:\n",
    "    print(r)"
   ]
  },
  {
   "cell_type": "code",
   "execution_count": null,
   "id": "modern-mountain",
   "metadata": {},
   "outputs": [],
   "source": []
  }
 ],
 "metadata": {
  "kernelspec": {
   "display_name": "Python 3",
   "language": "python",
   "name": "python3"
  },
  "language_info": {
   "codemirror_mode": {
    "name": "ipython",
    "version": 3
   },
   "file_extension": ".py",
   "mimetype": "text/x-python",
   "name": "python",
   "nbconvert_exporter": "python",
   "pygments_lexer": "ipython3",
   "version": "3.9.1"
  }
 },
 "nbformat": 4,
 "nbformat_minor": 5
}
