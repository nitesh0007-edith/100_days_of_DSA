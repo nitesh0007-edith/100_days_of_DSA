{
 "cells": [
  {
   "cell_type": "code",
   "execution_count": 3,
   "id": "fatty-driving",
   "metadata": {},
   "outputs": [
    {
     "name": "stdout",
     "output_type": "stream",
     "text": [
      "Enter any digit 123\n",
      "sum of the digit: 6\n"
     ]
    }
   ],
   "source": [
    "n=int(input(\"Enter any digit \"))\n",
    "result=0\n",
    "while n > 0:\n",
    "    rem = n % 10\n",
    "    result=result+rem\n",
    "    n=n//10\n",
    "print(\"sum of the digit:\",result)"
   ]
  },
  {
   "cell_type": "code",
   "execution_count": 4,
   "id": "amateur-admission",
   "metadata": {},
   "outputs": [
    {
     "name": "stdout",
     "output_type": "stream",
     "text": [
      "Enter any digit 123\n",
      "After reverse the number: 321\n"
     ]
    }
   ],
   "source": [
    "#reversed the number\n",
    "n=int(input(\"Enter any digit \"))\n",
    "reversed=0\n",
    "while n > 0:\n",
    "    rem = n % 10\n",
    "    reversed=reversed*10+rem\n",
    "    n=n//10\n",
    "print(\"After reverse the number:\",reversed)"
   ]
  },
  {
   "cell_type": "code",
   "execution_count": 13,
   "id": "round-script",
   "metadata": {},
   "outputs": [
    {
     "name": "stdout",
     "output_type": "stream",
     "text": [
      "Enter a:10\n",
      "Enter b:20\n",
      "after swap value of a: 20 and b: 10\n"
     ]
    }
   ],
   "source": [
    "#swap the number\n",
    "a=int(input(\"Enter a:\"))\n",
    "b=int(input(\"Enter b:\"))\n",
    "temp=0\n",
    "temp=a\n",
    "a=b\n",
    "b=temp\n",
    "print(\"after swap value of a:\",a,\"and b:\",b)"
   ]
  },
  {
   "cell_type": "code",
   "execution_count": null,
   "id": "gorgeous-japan",
   "metadata": {},
   "outputs": [],
   "source": []
  }
 ],
 "metadata": {
  "kernelspec": {
   "display_name": "Python 3",
   "language": "python",
   "name": "python3"
  },
  "language_info": {
   "codemirror_mode": {
    "name": "ipython",
    "version": 3
   },
   "file_extension": ".py",
   "mimetype": "text/x-python",
   "name": "python",
   "nbconvert_exporter": "python",
   "pygments_lexer": "ipython3",
   "version": "3.9.1"
  }
 },
 "nbformat": 4,
 "nbformat_minor": 5
}
