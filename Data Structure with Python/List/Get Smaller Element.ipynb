{
 "cells": [
  {
   "cell_type": "code",
   "execution_count": 2,
   "id": "virtual-yahoo",
   "metadata": {},
   "outputs": [
    {
     "name": "stdout",
     "output_type": "stream",
     "text": [
      "8 20 40 100 3 7\n",
      "10\n",
      "[8, 3, 7]\n"
     ]
    }
   ],
   "source": [
    "def getSmallerEle(l,x):\n",
    "    newlist=[]\n",
    "    for i in l:\n",
    "        if i<x:\n",
    "            newlist.append(i)\n",
    "    return newlist\n",
    "l=list(map(int,input().split(\" \")))\n",
    "x=10\n",
    "print(x)\n",
    "newlist=getSmallerEle(l,x)\n",
    "print(newlist)"
   ]
  },
  {
   "cell_type": "code",
   "execution_count": null,
   "id": "delayed-proposal",
   "metadata": {},
   "outputs": [],
   "source": []
  }
 ],
 "metadata": {
  "kernelspec": {
   "display_name": "Python 3",
   "language": "python",
   "name": "python3"
  },
  "language_info": {
   "codemirror_mode": {
    "name": "ipython",
    "version": 3
   },
   "file_extension": ".py",
   "mimetype": "text/x-python",
   "name": "python",
   "nbconvert_exporter": "python",
   "pygments_lexer": "ipython3",
   "version": "3.9.1"
  }
 },
 "nbformat": 4,
 "nbformat_minor": 5
}
