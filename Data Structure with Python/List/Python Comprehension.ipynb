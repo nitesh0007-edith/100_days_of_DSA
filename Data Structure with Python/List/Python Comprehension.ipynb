{
 "cells": [
  {
   "cell_type": "code",
   "execution_count": 1,
   "id": "direct-mustang",
   "metadata": {},
   "outputs": [
    {
     "name": "stdout",
     "output_type": "stream",
     "text": [
      "[0, 2, 4, 6, 8, 10]\n",
      "[1, 3, 5, 7, 9]\n"
     ]
    }
   ],
   "source": [
    "# list comprehension\n",
    "l1 = [x for x in range(11) if x%2==0]\n",
    "\n",
    "print(l1)\n",
    "\n",
    "l2 = [x for x in range(11) if x%2!=0]\n",
    "\n",
    "print(l2)"
   ]
  },
  {
   "cell_type": "code",
   "execution_count": 2,
   "id": "operational-crawford",
   "metadata": {},
   "outputs": [
    {
     "name": "stdout",
     "output_type": "stream",
     "text": [
      "{10, 4, 20}\n",
      "{3, 7}\n",
      "{0: 'ID0', 1: 'ID1', 2: 'ID2', 3: 'ID3', 4: 'ID4'}\n",
      "{101: 'gfg', 103: 'ide', 102: 'corse'}\n",
      "{101: 'gfg', 103: 'ide', 102: 'corse'}\n"
     ]
    }
   ],
   "source": [
    "# Set,dict comprehension\n",
    "l = {10,20,3,4,10,20,7,3}\n",
    "\n",
    "s1 = {x for x in l if x%2==0 }\n",
    "s2 = {x for x in l if x%2!=0 }  # set comprehension\n",
    "\n",
    "print(s1)\n",
    "print(s2)\n",
    "\n",
    "\n",
    "l1 = [1,3,4,2,5]\n",
    "\n",
    "d1 = {x:x**3 for x in l1}\n",
    "\n",
    "d2 = {x:f\"ID{x}\" for x in range(5)} # dictionary comprehension\n",
    "print(d2)\n",
    "\n",
    "\n",
    "l2 = [101,103,102]\n",
    "l3 = ['gfg','ide','corse']\n",
    "\n",
    "d3 = {l2[i]:l3[i] for i in range(len(l2)) }   # dictionary comprehension\n",
    "\n",
    "print(d3)\n",
    "\n",
    "\n",
    "d4 = dict(zip(l2,l3))\n",
    "\n",
    "print(d4)"
   ]
  },
  {
   "cell_type": "code",
   "execution_count": 3,
   "id": "described-caribbean",
   "metadata": {},
   "outputs": [
    {
     "name": "stdout",
     "output_type": "stream",
     "text": [
      "{'gfg': 101, 'practice': 103, 'ide': 102}\n"
     ]
    }
   ],
   "source": [
    "# Inverting a dictionary\n",
    "d1 = {101:'gfg',103:'practice',102:'ide'}\n",
    "d2 = {v:k for (k,v) in d1.items() }\n",
    "\n",
    "print(d2)"
   ]
  },
  {
   "cell_type": "code",
   "execution_count": null,
   "id": "featured-memorial",
   "metadata": {},
   "outputs": [],
   "source": []
  }
 ],
 "metadata": {
  "kernelspec": {
   "display_name": "Python 3",
   "language": "python",
   "name": "python3"
  },
  "language_info": {
   "codemirror_mode": {
    "name": "ipython",
    "version": 3
   },
   "file_extension": ".py",
   "mimetype": "text/x-python",
   "name": "python",
   "nbconvert_exporter": "python",
   "pygments_lexer": "ipython3",
   "version": "3.9.1"
  }
 },
 "nbformat": 4,
 "nbformat_minor": 5
}
