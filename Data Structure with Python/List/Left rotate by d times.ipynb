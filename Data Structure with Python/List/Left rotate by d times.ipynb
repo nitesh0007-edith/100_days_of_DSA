{
 "cells": [
  {
   "cell_type": "code",
   "execution_count": 4,
   "id": "restricted-vertical",
   "metadata": {},
   "outputs": [
    {
     "name": "stdout",
     "output_type": "stream",
     "text": [
      "10 20 30 40\n",
      "3\n",
      "[40, 10, 20, 30]\n"
     ]
    }
   ],
   "source": [
    "#using two loops Time Complexity: 0(n^d)\n",
    "def dTimesRotate(l,d):\n",
    "    n=len(l)\n",
    "    for i in range(d):\n",
    "        temp=l[0]\n",
    "        for j in range (1,n):\n",
    "            l[j-1]=l[j]\n",
    "        l[n-1]=temp\n",
    "\n",
    "l=list(map(int,input().split(' ')))\n",
    "d=int(input())\n",
    "dTimesRotate(l,d)\n",
    "print(l)"
   ]
  },
  {
   "cell_type": "code",
   "execution_count": 9,
   "id": "pretty-electric",
   "metadata": {},
   "outputs": [
    {
     "data": {
      "text/plain": [
       "[40, 10, 20, 30]"
      ]
     },
     "execution_count": 9,
     "metadata": {},
     "output_type": "execute_result"
    }
   ],
   "source": [
    "#using slicing\n",
    "l=[10,20,30,40]\n",
    "d=3\n",
    "newlist=l[d:]+l[0:d]\n",
    "newlist"
   ]
  },
  {
   "cell_type": "code",
   "execution_count": 10,
   "id": "younger-ethiopia",
   "metadata": {},
   "outputs": [
    {
     "name": "stdout",
     "output_type": "stream",
     "text": [
      "10 20 30 40\n",
      "3\n",
      "[40, 10, 20, 30]\n"
     ]
    }
   ],
   "source": [
    "# using loop and (append() and pop()) Time complexity 0(nd) and Auxiliary Space O(d)\n",
    "def dTimesRotate(l,d):\n",
    "    for i in range(0,d):\n",
    "        l.append(l.pop(0))\n",
    "\n",
    "l=list(map(int,input().split(' ')))\n",
    "d=int(input())\n",
    "dTimesRotate(l,d)\n",
    "print(l)\n"
   ]
  },
  {
   "cell_type": "code",
   "execution_count": 11,
   "id": "unusual-olympus",
   "metadata": {},
   "outputs": [
    {
     "name": "stdout",
     "output_type": "stream",
     "text": [
      "10 20 30 40\n",
      "3\n",
      "[40, 10, 20, 30]\n"
     ]
    }
   ],
   "source": [
    "# Efficient Approach\n",
    "# 0(n) Time Complexity and O(1) Auxiliary Space\n",
    "def dTimesRotate(l,d):\n",
    "    n=len(l)\n",
    "    reverse(l,0,d-1)\n",
    "    reverse(l,d,n-1)\n",
    "    reverse(l,0,n-1)\n",
    "def reverse(l,start,end):\n",
    "    while start<end:\n",
    "        l[start],l[end]=l[end],l[start]\n",
    "        start+=1\n",
    "        end-=1\n",
    "l=list(map(int,input().split(' ')))\n",
    "d=int(input())\n",
    "dTimesRotate(l,d)\n",
    "print(l)"
   ]
  },
  {
   "cell_type": "code",
   "execution_count": null,
   "id": "short-sending",
   "metadata": {},
   "outputs": [],
   "source": []
  }
 ],
 "metadata": {
  "kernelspec": {
   "display_name": "Python 3",
   "language": "python",
   "name": "python3"
  },
  "language_info": {
   "codemirror_mode": {
    "name": "ipython",
    "version": 3
   },
   "file_extension": ".py",
   "mimetype": "text/x-python",
   "name": "python",
   "nbconvert_exporter": "python",
   "pygments_lexer": "ipython3",
   "version": "3.9.1"
  }
 },
 "nbformat": 4,
 "nbformat_minor": 5
}
