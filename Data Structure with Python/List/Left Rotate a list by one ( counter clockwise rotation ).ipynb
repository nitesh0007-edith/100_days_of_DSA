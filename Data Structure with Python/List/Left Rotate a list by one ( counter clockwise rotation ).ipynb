{
 "cells": [
  {
   "cell_type": "code",
   "execution_count": 1,
   "id": "medical-corruption",
   "metadata": {},
   "outputs": [
    {
     "data": {
      "text/plain": [
       "[20, 30, 40, 10]"
      ]
     },
     "execution_count": 1,
     "metadata": {},
     "output_type": "execute_result"
    }
   ],
   "source": [
    "# using direct method\n",
    "# using list slicing\n",
    "\n",
    "l=[10,20,30,40]\n",
    "newlist=l[1:]+l[0:1]\n",
    "newlist"
   ]
  },
  {
   "cell_type": "code",
   "execution_count": 4,
   "id": "alert-waterproof",
   "metadata": {},
   "outputs": [
    {
     "name": "stdout",
     "output_type": "stream",
     "text": [
      "[20, 30, 40, 10]\n"
     ]
    }
   ],
   "source": [
    "#using append() and pop()\n",
    "\n",
    "l=[10,20,30,40]\n",
    "l.append(l.pop(0))\n",
    "print(l)"
   ]
  },
  {
   "cell_type": "code",
   "execution_count": 5,
   "id": "floppy-division",
   "metadata": {},
   "outputs": [
    {
     "name": "stdout",
     "output_type": "stream",
     "text": [
      "10 20 30 40\n",
      "[20, 30, 40, 10]\n"
     ]
    }
   ],
   "source": [
    "def leftRotate(l):\n",
    "    temp=l[0]\n",
    "    n=len(l)\n",
    "    for i in range(1,n):\n",
    "        l[i-1]=l[i]\n",
    "    l[n-1]=temp\n",
    "l=list(map(int,input().split(' ')))\n",
    "leftRotate(l)\n",
    "print(l)"
   ]
  },
  {
   "cell_type": "code",
   "execution_count": null,
   "id": "proud-stationery",
   "metadata": {},
   "outputs": [],
   "source": []
  }
 ],
 "metadata": {
  "kernelspec": {
   "display_name": "Python 3",
   "language": "python",
   "name": "python3"
  },
  "language_info": {
   "codemirror_mode": {
    "name": "ipython",
    "version": 3
   },
   "file_extension": ".py",
   "mimetype": "text/x-python",
   "name": "python",
   "nbconvert_exporter": "python",
   "pygments_lexer": "ipython3",
   "version": "3.9.1"
  }
 },
 "nbformat": 4,
 "nbformat_minor": 5
}
