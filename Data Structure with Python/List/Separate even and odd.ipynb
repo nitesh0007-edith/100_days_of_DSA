{
 "cells": [
  {
   "cell_type": "code",
   "execution_count": 5,
   "id": "measured-farmer",
   "metadata": {},
   "outputs": [
    {
     "name": "stdout",
     "output_type": "stream",
     "text": [
      "Enter List:\n",
      "10 41 30 15 80\n",
      "[10, 30, 80]\n",
      "[41, 15]\n"
     ]
    }
   ],
   "source": [
    "def getEvenOdd(l):\n",
    "    even=[]\n",
    "    odd=[]\n",
    "    for i in l:\n",
    "        if i%2==0:\n",
    "            even.append(i)\n",
    "        else:\n",
    "            odd.append(i)\n",
    "    return even,odd\n",
    "\n",
    "print(\"Enter List:\")\n",
    "l=list(map(int,input().split(\" \")))\n",
    "even,odd=getEvenOdd(l)\n",
    "print(even)\n",
    "print(odd)"
   ]
  },
  {
   "cell_type": "code",
   "execution_count": null,
   "id": "crucial-livestock",
   "metadata": {},
   "outputs": [],
   "source": []
  }
 ],
 "metadata": {
  "kernelspec": {
   "display_name": "Python 3",
   "language": "python",
   "name": "python3"
  },
  "language_info": {
   "codemirror_mode": {
    "name": "ipython",
    "version": 3
   },
   "file_extension": ".py",
   "mimetype": "text/x-python",
   "name": "python",
   "nbconvert_exporter": "python",
   "pygments_lexer": "ipython3",
   "version": "3.9.1"
  }
 },
 "nbformat": 4,
 "nbformat_minor": 5
}
