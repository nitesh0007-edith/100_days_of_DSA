{
 "cells": [
  {
   "cell_type": "code",
   "execution_count": 3,
   "id": "exempt-british",
   "metadata": {},
   "outputs": [
    {
     "name": "stdout",
     "output_type": "stream",
     "text": [
      "[50, 40, 30, 20, 10]\n"
     ]
    }
   ],
   "source": [
    "# using in built function \"reverse()\"\n",
    "\n",
    "l=[10,20,30,40,50]\n",
    "l.reverse()\n",
    "print(l)"
   ]
  },
  {
   "cell_type": "code",
   "execution_count": 6,
   "id": "conditional-testimony",
   "metadata": {},
   "outputs": [
    {
     "name": "stdout",
     "output_type": "stream",
     "text": [
      "[50, 40, 30, 20, 10]\n"
     ]
    }
   ],
   "source": [
    "l=[10,20,30,40,50]\n",
    "newl=list(reversed(l))\n",
    "print(newl)"
   ]
  },
  {
   "cell_type": "code",
   "execution_count": 7,
   "id": "frequent-oxygen",
   "metadata": {},
   "outputs": [
    {
     "name": "stdout",
     "output_type": "stream",
     "text": [
      "[50, 40, 30, 20, 10]\n"
     ]
    }
   ],
   "source": [
    "l=[10,20,30,40,50]\n",
    "newl=l[::-1]\n",
    "print(newl)"
   ]
  },
  {
   "cell_type": "code",
   "execution_count": 27,
   "id": "coated-assist",
   "metadata": {},
   "outputs": [
    {
     "name": "stdout",
     "output_type": "stream",
     "text": [
      "1 2 3 4\n",
      "[4, 3, 2, 1]\n"
     ]
    }
   ],
   "source": [
    "# using own function\n",
    "\n",
    "def reverse(l,start,end):\n",
    "    temp=0\n",
    "    while(start<end):\n",
    "        temp=l[start]\n",
    "        l[start]=l[end]\n",
    "        l[end]=temp\n",
    "        start+=1\n",
    "        end-=1\n",
    "\n",
    "l=list(map(int,input().split(' ')))\n",
    "size=len(l)\n",
    "reverse(l,0,size-1)\n",
    "print(l)"
   ]
  },
  {
   "cell_type": "code",
   "execution_count": null,
   "id": "certified-barrier",
   "metadata": {},
   "outputs": [],
   "source": [
    "# using own function\n",
    "def reverse(l):\n",
    "    start=0\n",
    "    end=len(l)-1\n",
    "    while(start<end):\n",
    "        l[start],\n",
    "        start+=1\n",
    "        end-=1\n",
    "\n",
    "l=list(map(int,input().split(' ')))\n",
    "size=len(l)\n",
    "reverse(l,0,size-1)\n",
    "print(l)"
   ]
  }
 ],
 "metadata": {
  "kernelspec": {
   "display_name": "Python 3",
   "language": "python",
   "name": "python3"
  },
  "language_info": {
   "codemirror_mode": {
    "name": "ipython",
    "version": 3
   },
   "file_extension": ".py",
   "mimetype": "text/x-python",
   "name": "python",
   "nbconvert_exporter": "python",
   "pygments_lexer": "ipython3",
   "version": "3.9.1"
  }
 },
 "nbformat": 4,
 "nbformat_minor": 5
}
