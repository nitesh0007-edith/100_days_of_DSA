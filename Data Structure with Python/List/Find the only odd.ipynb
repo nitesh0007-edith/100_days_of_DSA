{
 "cells": [
  {
   "cell_type": "code",
   "execution_count": 19,
   "id": "smaller-example",
   "metadata": {},
   "outputs": [
    {
     "name": "stdout",
     "output_type": "stream",
     "text": [
      "10 10 20 30 20 30 40\n",
      "40\n"
     ]
    }
   ],
   "source": [
    "# Method 1 (my code)\n",
    "def onlyOdd(l):\n",
    "    u=set(l)\n",
    "    ulist=list(u)\n",
    "    if len(ulist)<=1:\n",
    "        return ulist[0]\n",
    "    i=0\n",
    "    while(i<len(ulist)):\n",
    "        if l.count(ulist[i]) %2!=0:\n",
    "            return ulist[i]\n",
    "        i=i+1\n",
    "\n",
    "l=list(map(int,input().split(\" \")))\n",
    "print(onlyOdd(l))"
   ]
  },
  {
   "cell_type": "code",
   "execution_count": 17,
   "id": "later-lincoln",
   "metadata": {},
   "outputs": [
    {
     "name": "stdout",
     "output_type": "stream",
     "text": [
      "10 10 20 20\n",
      "None\n"
     ]
    }
   ],
   "source": [
    "# Method 2 (simple approach)\n",
    "def onlyOdd(l):\n",
    "    result=None\n",
    "    for i in l:\n",
    "        if l.count(i)%2!=0:\n",
    "            result=i\n",
    "            break\n",
    "    return result\n",
    "\n",
    "l=list(map(int,input().split(\" \")))\n",
    "print(onlyOdd(l))"
   ]
  },
  {
   "cell_type": "code",
   "execution_count": null,
   "id": "imperial-projector",
   "metadata": {},
   "outputs": [],
   "source": [
    "# Method 3 by (Bitwise XOR)\n",
    "def onlyOdd(l):\n",
    "    result=0\n",
    "    for i in l:\n",
    "        result=result^i\n",
    "    return result\n",
    "\n",
    "l=list(map(int,input().split(\" \")))\n",
    "if(onlyOdd(l)==0):\n",
    "    print('None')\n",
    "else:\n",
    "    print(onlyOdd(l))"
   ]
  },
  {
   "cell_type": "code",
   "execution_count": null,
   "id": "funded-arbor",
   "metadata": {},
   "outputs": [],
   "source": []
  }
 ],
 "metadata": {
  "kernelspec": {
   "display_name": "Python 3",
   "language": "python",
   "name": "python3"
  },
  "language_info": {
   "codemirror_mode": {
    "name": "ipython",
    "version": 3
   },
   "file_extension": ".py",
   "mimetype": "text/x-python",
   "name": "python",
   "nbconvert_exporter": "python",
   "pygments_lexer": "ipython3",
   "version": "3.9.1"
  }
 },
 "nbformat": 4,
 "nbformat_minor": 5
}
