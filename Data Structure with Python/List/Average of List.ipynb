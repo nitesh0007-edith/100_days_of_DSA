{
 "cells": [
  {
   "cell_type": "code",
   "execution_count": 2,
   "id": "genuine-botswana",
   "metadata": {},
   "outputs": [
    {
     "name": "stdout",
     "output_type": "stream",
     "text": [
      "Enter the list:\n",
      "10 20 30 40\n",
      "Average of the List: 25.0\n"
     ]
    }
   ],
   "source": [
    "def avg(l):\n",
    "    n=len(l)\n",
    "    sum=0\n",
    "    for i in l:\n",
    "        sum+=i\n",
    "    return sum/n\n",
    "print(\"Enter the list:\")\n",
    "l=list(map(int,input().split(\" \")))\n",
    "print(\"Average of the List:\",avg(l))"
   ]
  },
  {
   "cell_type": "code",
   "execution_count": 3,
   "id": "european-banner",
   "metadata": {},
   "outputs": [
    {
     "name": "stdout",
     "output_type": "stream",
     "text": [
      "Enter the list:\n",
      "10 20 30 40\n",
      "Average of the List: 25.0\n"
     ]
    }
   ],
   "source": [
    "def avg(l):\n",
    "    return sum(l)/len(l)\n",
    "print(\"Enter the list:\")\n",
    "l=list(map(int,input().split(\" \")))\n",
    "print(\"Average of the List:\",avg(l))"
   ]
  },
  {
   "cell_type": "code",
   "execution_count": null,
   "id": "traditional-craps",
   "metadata": {},
   "outputs": [],
   "source": []
  }
 ],
 "metadata": {
  "kernelspec": {
   "display_name": "Python 3",
   "language": "python",
   "name": "python3"
  },
  "language_info": {
   "codemirror_mode": {
    "name": "ipython",
    "version": 3
   },
   "file_extension": ".py",
   "mimetype": "text/x-python",
   "name": "python",
   "nbconvert_exporter": "python",
   "pygments_lexer": "ipython3",
   "version": "3.9.1"
  }
 },
 "nbformat": 4,
 "nbformat_minor": 5
}
