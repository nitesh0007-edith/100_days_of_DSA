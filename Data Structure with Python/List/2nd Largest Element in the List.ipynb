{
 "cells": [
  {
   "cell_type": "code",
   "execution_count": 7,
   "id": "compressed-bookmark",
   "metadata": {},
   "outputs": [
    {
     "name": "stdout",
     "output_type": "stream",
     "text": [
      "10 5 8 12\n",
      "10\n"
     ]
    }
   ],
   "source": [
    "def secondlargest(l):\n",
    "    l.sort()\n",
    "    return l[-2]\n",
    "    \n",
    "l=list(map(int,input().split(\" \")))\n",
    "print(secondlargest(l))\n",
    "\n",
    "# this method is not work where element of list is repeated"
   ]
  },
  {
   "cell_type": "code",
   "execution_count": 11,
   "id": "moral-antarctica",
   "metadata": {},
   "outputs": [
    {
     "name": "stdout",
     "output_type": "stream",
     "text": [
      "10 20 20 3 4\n",
      "10\n"
     ]
    }
   ],
   "source": [
    "# Naive Solution\n",
    "# this program required two traversal. complexity of this program is 0(n)\n",
    "\n",
    "def secondlargest(l):\n",
    "    if len(l)<1:\n",
    "        return None\n",
    "    large=largest(l)\n",
    "    seclarge=None\n",
    "    for i in l:\n",
    "        if i!=large:\n",
    "            if seclarge==None:\n",
    "                seclarge=i\n",
    "            else:\n",
    "                seclarge=max(seclarge,i)\n",
    "    return seclarge\n",
    "    \n",
    "def largest(l):\n",
    "    result=l[0]\n",
    "    for i in range(1,len(l)):\n",
    "        result=max(result,l[i])\n",
    "    return result\n",
    "    \n",
    "l=list(map(int,input().split(\" \")))\n",
    "print(secondlargest(l))"
   ]
  },
  {
   "cell_type": "code",
   "execution_count": 16,
   "id": "median-dakota",
   "metadata": {},
   "outputs": [
    {
     "name": "stdout",
     "output_type": "stream",
     "text": [
      "10 20 20 3 4\n",
      "10\n"
     ]
    }
   ],
   "source": [
    "# Efficient Approach (one traversal) : Time Complexity = 0(n)\n",
    "\n",
    "def secondlargest(l):\n",
    "    if len(l)<=1:\n",
    "        return None\n",
    "    large=l[0]\n",
    "    slarge=None\n",
    "    for i in l[1:]:\n",
    "        if i>large:\n",
    "            slarge=large\n",
    "            large=i\n",
    "        elif i!=large:\n",
    "            if slarge == None or slarge < i:\n",
    "                slarge=i\n",
    "    return slarge\n",
    "l=list(map(int,input().split(\" \")))\n",
    "print(secondlargest(l))"
   ]
  },
  {
   "cell_type": "code",
   "execution_count": null,
   "id": "announced-alcohol",
   "metadata": {},
   "outputs": [],
   "source": []
  }
 ],
 "metadata": {
  "kernelspec": {
   "display_name": "Python 3",
   "language": "python",
   "name": "python3"
  },
  "language_info": {
   "codemirror_mode": {
    "name": "ipython",
    "version": 3
   },
   "file_extension": ".py",
   "mimetype": "text/x-python",
   "name": "python",
   "nbconvert_exporter": "python",
   "pygments_lexer": "ipython3",
   "version": "3.9.1"
  }
 },
 "nbformat": 4,
 "nbformat_minor": 5
}
