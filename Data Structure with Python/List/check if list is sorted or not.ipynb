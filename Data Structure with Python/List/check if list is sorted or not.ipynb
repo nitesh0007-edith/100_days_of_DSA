{
 "cells": [
  {
   "cell_type": "code",
   "execution_count": 5,
   "id": "funded-split",
   "metadata": {},
   "outputs": [
    {
     "name": "stdout",
     "output_type": "stream",
     "text": [
      "10 5 2\n",
      "No\n"
     ]
    }
   ],
   "source": [
    "# efficient solution for this problem\n",
    "def isSorted(l):\n",
    "    if len(l)<=1:\n",
    "        return True\n",
    "    i=1\n",
    "    while(i<len(l)):\n",
    "        if l[i]<l[i-1]:\n",
    "            return False\n",
    "            break        \n",
    "        i=i+1\n",
    "    return True\n",
    "    \n",
    "l=list(map(int,input().split(\" \")))\n",
    "if isSorted(l):\n",
    "    print('Yes')\n",
    "else:\n",
    "    print('No')"
   ]
  },
  {
   "cell_type": "code",
   "execution_count": 4,
   "id": "hidden-absence",
   "metadata": {},
   "outputs": [
    {
     "name": "stdout",
     "output_type": "stream",
     "text": [
      "10 5 2\n",
      "No\n"
     ]
    }
   ],
   "source": [
    "# using sorted function\n",
    "def isSorted(l):\n",
    "    sl=sorted(l)\n",
    "    if l==sl:\n",
    "        return True\n",
    "    else:\n",
    "        return False    \n",
    "l=list(map(int,input().split(\" \")))\n",
    "if isSorted(l):\n",
    "    print('Yes')\n",
    "else:\n",
    "    print('No')"
   ]
  },
  {
   "cell_type": "code",
   "execution_count": null,
   "id": "educated-logging",
   "metadata": {},
   "outputs": [],
   "source": []
  }
 ],
 "metadata": {
  "kernelspec": {
   "display_name": "Python 3",
   "language": "python",
   "name": "python3"
  },
  "language_info": {
   "codemirror_mode": {
    "name": "ipython",
    "version": 3
   },
   "file_extension": ".py",
   "mimetype": "text/x-python",
   "name": "python",
   "nbconvert_exporter": "python",
   "pygments_lexer": "ipython3",
   "version": "3.9.1"
  }
 },
 "nbformat": 4,
 "nbformat_minor": 5
}
