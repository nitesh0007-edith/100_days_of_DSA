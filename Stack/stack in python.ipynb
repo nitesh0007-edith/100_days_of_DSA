stack = []
print('Initial stack')
print("\n",stack)

print('\nElements Pused into the stack :')
stack.append('a')
print("\nElement After 1st Push operation",stack)
stack.append('b')
print("\nElement After 2nd Push operation",stack)
stack.append('c')
print("\nElement After 3rd Push operation",stack)
 
print('\nElement of stack after performing 3 pushed operation')
print(stack)

print('\nElements poped from stack:')
print(stack.pop())
print("\nElement After 1st Pop operation",stack)
print(stack.pop())
print("\nElement After 2nd Pop operation",stack)
print(stack.pop())
print("\nElement After 3rd Pop operation",stack)
 
print('\nStack after Performing 3 Poped operation:')
print("\n",stack)
