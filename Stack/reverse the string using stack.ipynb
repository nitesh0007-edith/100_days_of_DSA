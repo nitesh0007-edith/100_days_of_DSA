{
 "cells": [
  {
   "cell_type": "code",
   "execution_count": 3,
   "id": "ancient-costa",
   "metadata": {},
   "outputs": [
    {
     "name": "stdout",
     "output_type": "stream",
     "text": [
      "Revesed String using Stack: AIDNI\n"
     ]
    }
   ],
   "source": [
    "def CreateStack():\n",
    "    stack = []\n",
    "    return stack\n",
    "\n",
    "def IsEmpty(stack):\n",
    "    if len(stack)==0:\n",
    "        return True\n",
    "\n",
    "def push(stack,item):\n",
    "    stack.append(item)\n",
    "    \n",
    "def pop(stack):\n",
    "    if IsEmpty(stack):\n",
    "        return\n",
    "    return stack.pop()\n",
    "def reverse(string):\n",
    "    n=len(string)\n",
    "    stack = CreateStack()\n",
    "    \n",
    "    for i in range(0,n,1):\n",
    "        push(stack,string[i])\n",
    "    \n",
    "    string=\"\"\n",
    "    \n",
    "    for i in range(0,n,1):\n",
    "        string+=pop(stack)\n",
    "    \n",
    "    return string\n",
    "\n",
    "string = \"INDIA\"\n",
    "string = reverse(string)\n",
    "print(\"Revesed String using Stack:\",string)  "
   ]
  },
  {
   "cell_type": "code",
   "execution_count": null,
   "id": "caroline-vatican",
   "metadata": {},
   "outputs": [],
   "source": []
  }
 ],
 "metadata": {
  "kernelspec": {
   "display_name": "Python 3",
   "language": "python",
   "name": "python3"
  },
  "language_info": {
   "codemirror_mode": {
    "name": "ipython",
    "version": 3
   },
   "file_extension": ".py",
   "mimetype": "text/x-python",
   "name": "python",
   "nbconvert_exporter": "python",
   "pygments_lexer": "ipython3",
   "version": "3.9.1"
  }
 },
 "nbformat": 4,
 "nbformat_minor": 5
}
